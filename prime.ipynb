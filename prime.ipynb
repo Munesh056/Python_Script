{
 "cells": [
  {
   "cell_type": "code",
   "execution_count": 10,
   "id": "eb0fdef4-d517-4622-acaf-87eae46c74dd",
   "metadata": {},
   "outputs": [
    {
     "name": "stdin",
     "output_type": "stream",
     "text": [
      "Enter the number 7\n"
     ]
    },
    {
     "name": "stdout",
     "output_type": "stream",
     "text": [
      "7 is a Prime Number\n"
     ]
    }
   ],
   "source": [
    "# Program check the number is Prime or not\n",
    "n=int(input(\"Enter the number\"))\n",
    "def is_pr(n):\n",
    "     if n<=1:\n",
    "         return False\n",
    "     for i in range (2,n):\n",
    "         if n % i == 0:\n",
    "             return False\n",
    "         return True\n",
    "if is_pr(n):\n",
    "    print(n,\"is a Prime Number\")\n",
    "else:\n",
    "    print(n,\"is not a Prime Number\")\n",
    "             \n"
   ]
  },
  {
   "cell_type": "code",
   "execution_count": null,
   "id": "291f092b-22e3-4a3e-99f9-2ceaf748a3b6",
   "metadata": {},
   "outputs": [],
   "source": []
  },
  {
   "cell_type": "code",
   "execution_count": null,
   "id": "7a2dee71-5f2e-4445-853e-ab1c1dc9c4ac",
   "metadata": {},
   "outputs": [],
   "source": []
  }
 ],
 "metadata": {
  "kernelspec": {
   "display_name": "Python [conda env:base] *",
   "language": "python",
   "name": "conda-base-py"
  },
  "language_info": {
   "codemirror_mode": {
    "name": "ipython",
    "version": 3
   },
   "file_extension": ".py",
   "mimetype": "text/x-python",
   "name": "python",
   "nbconvert_exporter": "python",
   "pygments_lexer": "ipython3",
   "version": "3.12.7"
  }
 },
 "nbformat": 4,
 "nbformat_minor": 5
}
